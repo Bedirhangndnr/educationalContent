{
 "cells": [
  {
   "cell_type": "code",
   "execution_count": null,
   "id": "e6b457d6-17ed-4829-a3e5-dac929c7617b",
   "metadata": {},
   "outputs": [
    {
     "data": {
      "text/plain": [
       "0.7340201613960431"
      ]
     },
     "execution_count": 1,
     "metadata": {},
     "output_type": "execute_result"
    }
   ],
   "source": [
    "import numpy as np\n",
    "from numpy import dot\n",
    "from numpy.linalg import norm\n",
    "\n",
    "#define arrays\n",
    "a = np.random.randint(10, size=100)\n",
    "b = np.random.randint(10, size=100)\n",
    "\n",
    "#calculate Cosine Similarity\n",
    "cos_sim = dot(a, b)/(norm(a)*norm(b))\n",
    "\n",
    "cos_sim\n",
    "\n",
    "0.7340201613960431"
   ]
  },
  {
   "cell_type": "code",
   "execution_count": 2,
   "id": "0cfe6150-3337-4448-9792-4e0289afc4ea",
   "metadata": {},
   "outputs": [
    {
     "data": {
      "text/plain": [
       "array([8, 0, 9, 6, 3, 5, 8, 3, 9, 6, 4, 5, 0, 1, 6, 1, 4, 5, 3, 3, 6, 1,\n",
       "       3, 5, 3, 4, 5, 5, 2, 6, 6, 9, 2, 6, 5, 1, 9, 9, 9, 8, 6, 6, 4, 0,\n",
       "       2, 4, 5, 2, 9, 8, 3, 4, 3, 2, 1, 1, 5, 9, 6, 1, 1, 8, 8, 3, 7, 6,\n",
       "       2, 3, 8, 5, 8, 2, 9, 8, 8, 7, 6, 6, 1, 0, 2, 4, 2, 1, 7, 0, 6, 5,\n",
       "       3, 5, 7, 6, 4, 2, 9, 2, 7, 6, 5, 5])"
      ]
     },
     "execution_count": 2,
     "metadata": {},
     "output_type": "execute_result"
    }
   ],
   "source": [
    "b"
   ]
  },
  {
   "cell_type": "code",
   "execution_count": null,
   "id": "12e11705-310b-4009-8376-893ae683a62c",
   "metadata": {},
   "outputs": [],
   "source": []
  }
 ],
 "metadata": {
  "kernelspec": {
   "display_name": "Python 3 (ipykernel)",
   "language": "python",
   "name": "python3"
  },
  "language_info": {
   "codemirror_mode": {
    "name": "ipython",
    "version": 3
   },
   "file_extension": ".py",
   "mimetype": "text/x-python",
   "name": "python",
   "nbconvert_exporter": "python",
   "pygments_lexer": "ipython3",
   "version": "3.9.7"
  }
 },
 "nbformat": 4,
 "nbformat_minor": 5
}
