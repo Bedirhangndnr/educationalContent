{
 "cells": [
  {
   "cell_type": "markdown",
   "id": "111d5429-5f48-4956-8b96-b6fa4bbb1f11",
   "metadata": {},
   "source": [
    "Started!"
   ]
  },
  {
   "cell_type": "code",
   "execution_count": null,
   "id": "5549e2cd-65d4-4703-8b18-126fd72a9ff3",
   "metadata": {},
   "outputs": [],
   "source": []
  }
 ],
 "metadata": {
  "kernelspec": {
   "display_name": "Python 3",
   "language": "python",
   "name": "python3"
  },
  "language_info": {
   "codemirror_mode": {
    "name": "ipython",
    "version": 3
   },
   "file_extension": ".py",
   "mimetype": "text/x-python",
   "name": "python",
   "nbconvert_exporter": "python",
   "pygments_lexer": "ipython3",
   "version": "3.8.8"
  }
 },
 "nbformat": 4,
 "nbformat_minor": 5
}
