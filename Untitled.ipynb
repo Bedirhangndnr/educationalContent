{
 "cells": [
  {
   "cell_type": "markdown",
   "id": "111d5429-5f48-4956-8b96-b6fa4bbb1f11",
   "metadata": {},
   "source": [
    "Started!"
   ]
  },
  {
   "cell_type": "code",
   "execution_count": null,
   "id": "17deca6a-df6c-4a78-b289-1e6eecaa57b9",
   "metadata": {},
   "outputs": [],
   "source": []
  },
  {
   "cell_type": "code",
   "execution_count": null,
   "id": "0e276b5e-f982-4beb-bf3e-94761a0ab897",
   "metadata": {},
   "outputs": [],
   "source": []
  },
  {
   "cell_type": "code",
   "execution_count": null,
   "id": "e6780bfa-8403-4230-a74e-cd4679287c08",
   "metadata": {},
   "outputs": [],
   "source": []
  },
  {
   "cell_type": "markdown",
   "id": "d043d5fa-93c0-4234-8aba-4ab9b69826f4",
   "metadata": {},
   "source": [
    "deneme 1234\n"
   ]
  },
  {
   "cell_type": "code",
   "execution_count": null,
   "id": "c6065359-af3e-4819-80d5-5cfdebfd065a",
   "metadata": {},
   "outputs": [],
   "source": []
  }
 ],
 "metadata": {
  "kernelspec": {
   "display_name": "Python 3",
   "language": "python",
   "name": "python3"
  },
  "language_info": {
   "codemirror_mode": {
    "name": "ipython",
    "version": 3
   },
   "file_extension": ".py",
   "mimetype": "text/x-python",
   "name": "python",
   "nbconvert_exporter": "python",
   "pygments_lexer": "ipython3",
   "version": "3.8.8"
  }
 },
 "nbformat": 4,
 "nbformat_minor": 5
}
